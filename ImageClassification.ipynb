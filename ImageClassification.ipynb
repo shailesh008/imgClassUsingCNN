{
  "nbformat": 4,
  "nbformat_minor": 0,
  "metadata": {
    "colab": {
      "name": "ImageClassification.ipynb",
      "version": "0.3.2",
      "provenance": [],
      "include_colab_link": true
    },
    "kernelspec": {
      "name": "python3",
      "display_name": "Python 3"
    },
    "accelerator": "GPU"
  },
  "cells": [
    {
      "cell_type": "markdown",
      "metadata": {
        "id": "view-in-github",
        "colab_type": "text"
      },
      "source": [
        "<a href=\"https://colab.research.google.com/github/shailesh008/imgClassUsingCNN/blob/master/ImageClassification.ipynb\" target=\"_parent\"><img src=\"https://colab.research.google.com/assets/colab-badge.svg\" alt=\"Open In Colab\"/></a>"
      ]
    },
    {
      "metadata": {
        "id": "GMoRPbC3TywE",
        "colab_type": "code",
        "colab": {}
      },
      "cell_type": "code",
      "source": [
        "import tensorflow as tf # ML library for graphs\n",
        "import cv2\n",
        "import numpy as np\n",
        "import os\n",
        "from random import shuffle\n",
        "from tqdm import tqdm\n",
        "import pandas as panda\n",
        "import matplotlib.pyplot as plt\n",
        "from sklearn.metrics import roc_auc_score\n",
        "\n",
        "#If you are using CPU in a computer having GPU, the line below should be in your cod\n",
        "#HYPERPARAMETERS\n",
        "# our photos are in the size of (80,80,3)\n",
        "IMG_SIZE = 80\n",
        "\n",
        "epochs = 30\n",
        "step_size = 8\n",
        "IMG_SIZE_ALEXNET = 227\n",
        "validating_size = 40\n",
        "nodes_fc1 = 4096\n",
        "nodes_fc2 = 4096\n",
        "output_classes = 4\n",
        "\n",
        "TRAIN_DIR = os.getcwd()"
      ],
      "execution_count": 0,
      "outputs": []
    },
    {
      "metadata": {
        "id": "v2-xvduPU43o",
        "colab_type": "code",
        "colab": {
          "base_uri": "https://localhost:8080/",
          "height": 34
        },
        "outputId": "f18a6930-f984-4627-cc56-927efaad858b"
      },
      "cell_type": "code",
      "source": [
        "import os, sys\n",
        "print(TRAIN_DIR) # current working directory"
      ],
      "execution_count": 5,
      "outputs": [
        {
          "output_type": "stream",
          "text": [
            "/content\n"
          ],
          "name": "stdout"
        }
      ]
    },
    {
      "metadata": {
        "id": "kEeeftysU7Sd",
        "colab_type": "code",
        "colab": {
          "resources": {
            "http://localhost:8080/nbextensions/google.colab/files.js": {
              "data": "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",
              "ok": true,
              "headers": [
                [
                  "content-type",
                  "application/javascript"
                ]
              ],
              "status": 200,
              "status_text": ""
            }
          },
          "base_uri": "https://localhost:8080/",
          "height": 86
        },
        "outputId": "f47b4d49-ffb9-4c62-93b8-75a03eebb5f1"
      },
      "cell_type": "code",
      "source": [
        "from google.colab import files\n",
        "\n",
        "uploaded = files.upload()"
      ],
      "execution_count": 0,
      "outputs": [
        {
          "output_type": "display_data",
          "data": {
            "text/html": [
              "\n",
              "     <input type=\"file\" id=\"files-a64ccf68-c507-43cb-b27f-0fce0cf06aa4\" name=\"files[]\" multiple disabled />\n",
              "     <output id=\"result-a64ccf68-c507-43cb-b27f-0fce0cf06aa4\">\n",
              "      Upload widget is only available when the cell has been executed in the\n",
              "      current browser session. Please rerun this cell to enable.\n",
              "      </output>\n",
              "      <script src=\"/nbextensions/google.colab/files.js\"></script> "
            ],
            "text/plain": [
              "<IPython.core.display.HTML object>"
            ]
          },
          "metadata": {
            "tags": []
          }
        },
        {
          "output_type": "stream",
          "text": [
            "Saving train_data_mc.npy to train_data_mc.npy\n"
          ],
          "name": "stdout"
        }
      ]
    },
    {
      "metadata": {
        "id": "Sc75DXb8TywM",
        "colab_type": "code",
        "colab": {}
      },
      "cell_type": "code",
      "source": [
        "'''\n",
        "TRAIN_DIR = '<place holder>'\n",
        "TEST_DIR = '<place holder>'\n",
        "IMG_SIZE = 80# our images are 80x80x3\n",
        "'''"
      ],
      "execution_count": 0,
      "outputs": []
    },
    {
      "metadata": {
        "id": "B5BZxF7sTywP",
        "colab_type": "code",
        "colab": {}
      },
      "cell_type": "code",
      "source": [
        "'''\n",
        "def label_img(img):\n",
        "    word_label = img.split('_')[0]\n",
        "    if word_label == 'chair': return [1,0,0,0]\n",
        "    elif word_label == 'kitchen': return [0,1,0,0]\n",
        "    elif word_label == 'knife': return [0,0,1,0]\n",
        "    elif word_label == 'saucepan': return [0,0,0,1]\n",
        "    '''"
      ],
      "execution_count": 0,
      "outputs": []
    },
    {
      "metadata": {
        "id": "Urq2zT28TywU",
        "colab_type": "code",
        "colab": {}
      },
      "cell_type": "code",
      "source": [
        "'''\n",
        "def create_train_data():\n",
        "    training_data = []\n",
        "    for img in tqdm(os.listdir(TRAIN_DIR)):\n",
        "        label = label_img(img)\n",
        "        path = TRAIN_DIR + '/' + img\n",
        "        img = cv2.imread(path,1)\n",
        "        img = cv2.resize(img, (IMG_SIZE,IMG_SIZE))\n",
        "        training_data.append([np.array(img),np.array(label)])\n",
        "    shuffle(training_data)\n",
        "    np.save('train_data_mc.npy', training_data)\n",
        "    return training_data\n",
        "    \n",
        "    '''"
      ],
      "execution_count": 0,
      "outputs": []
    },
    {
      "metadata": {
        "id": "LXZ4VarDTywX",
        "colab_type": "code",
        "colab": {
          "base_uri": "https://localhost:8080/",
          "height": 351
        },
        "outputId": "421e2161-a098-4d5d-c2a9-a69326fae499"
      },
      "cell_type": "code",
      "source": [
        "#If you are reading images, make the line below uncomment\n",
        "#train_data = create_train_data()\n",
        "#If you are reading .npy file, use the line below.\n",
        "train_data = np.load('train_data_mc.npy')\n",
        "#print(train_data)\n",
        "#If you are reading images, make the line below uncomment.\n",
        "\n",
        "#test_data = process_test_data()\n",
        "\n",
        "#If you are reading .npy file, use the line below.\n",
        "test_data = np.load('test_data_mc.npy')"
      ],
      "execution_count": 6,
      "outputs": [
        {
          "output_type": "error",
          "ename": "FileNotFoundError",
          "evalue": "ignored",
          "traceback": [
            "\u001b[0;31m---------------------------------------------------------------------------\u001b[0m",
            "\u001b[0;31mFileNotFoundError\u001b[0m                         Traceback (most recent call last)",
            "\u001b[0;32m<ipython-input-6-14b95fc852b3>\u001b[0m in \u001b[0;36m<module>\u001b[0;34m()\u001b[0m\n\u001b[0;32m----> 1\u001b[0;31m \u001b[0mtrain_data\u001b[0m \u001b[0;34m=\u001b[0m \u001b[0mnp\u001b[0m\u001b[0;34m.\u001b[0m\u001b[0mload\u001b[0m\u001b[0;34m(\u001b[0m\u001b[0;34m'train_data_mc.npy'\u001b[0m\u001b[0;34m)\u001b[0m\u001b[0;34m\u001b[0m\u001b[0;34m\u001b[0m\u001b[0m\n\u001b[0m\u001b[1;32m      2\u001b[0m \u001b[0;31m#print(train_data)\u001b[0m\u001b[0;34m\u001b[0m\u001b[0;34m\u001b[0m\u001b[0;34m\u001b[0m\u001b[0m\n\u001b[1;32m      3\u001b[0m \u001b[0;31m#If you are reading images, make the line below uncomment.\u001b[0m\u001b[0;34m\u001b[0m\u001b[0;34m\u001b[0m\u001b[0;34m\u001b[0m\u001b[0m\n\u001b[1;32m      4\u001b[0m \u001b[0;34m\u001b[0m\u001b[0m\n\u001b[1;32m      5\u001b[0m \u001b[0;31m#test_data = process_test_data()\u001b[0m\u001b[0;34m\u001b[0m\u001b[0;34m\u001b[0m\u001b[0;34m\u001b[0m\u001b[0m\n",
            "\u001b[0;32m/usr/local/lib/python3.6/dist-packages/numpy/lib/npyio.py\u001b[0m in \u001b[0;36mload\u001b[0;34m(file, mmap_mode, allow_pickle, fix_imports, encoding)\u001b[0m\n\u001b[1;32m    370\u001b[0m     \u001b[0mown_fid\u001b[0m \u001b[0;34m=\u001b[0m \u001b[0;32mFalse\u001b[0m\u001b[0;34m\u001b[0m\u001b[0;34m\u001b[0m\u001b[0m\n\u001b[1;32m    371\u001b[0m     \u001b[0;32mif\u001b[0m \u001b[0misinstance\u001b[0m\u001b[0;34m(\u001b[0m\u001b[0mfile\u001b[0m\u001b[0;34m,\u001b[0m \u001b[0mbasestring\u001b[0m\u001b[0;34m)\u001b[0m\u001b[0;34m:\u001b[0m\u001b[0;34m\u001b[0m\u001b[0;34m\u001b[0m\u001b[0m\n\u001b[0;32m--> 372\u001b[0;31m         \u001b[0mfid\u001b[0m \u001b[0;34m=\u001b[0m \u001b[0mopen\u001b[0m\u001b[0;34m(\u001b[0m\u001b[0mfile\u001b[0m\u001b[0;34m,\u001b[0m \u001b[0;34m\"rb\"\u001b[0m\u001b[0;34m)\u001b[0m\u001b[0;34m\u001b[0m\u001b[0;34m\u001b[0m\u001b[0m\n\u001b[0m\u001b[1;32m    373\u001b[0m         \u001b[0mown_fid\u001b[0m \u001b[0;34m=\u001b[0m \u001b[0;32mTrue\u001b[0m\u001b[0;34m\u001b[0m\u001b[0;34m\u001b[0m\u001b[0m\n\u001b[1;32m    374\u001b[0m     \u001b[0;32melif\u001b[0m \u001b[0mis_pathlib_path\u001b[0m\u001b[0;34m(\u001b[0m\u001b[0mfile\u001b[0m\u001b[0;34m)\u001b[0m\u001b[0;34m:\u001b[0m\u001b[0;34m\u001b[0m\u001b[0;34m\u001b[0m\u001b[0m\n",
            "\u001b[0;31mFileNotFoundError\u001b[0m: [Errno 2] No such file or directory: 'train_data_mc.npy'"
          ]
        }
      ]
    },
    {
      "metadata": {
        "id": "cmUCEzwdTywa",
        "colab_type": "code",
        "colab": {
          "base_uri": "https://localhost:8080/",
          "height": 54
        },
        "outputId": "409ce9a2-c0db-4543-9ddd-ab512aac6d4a"
      },
      "cell_type": "code",
      "source": [
        "'''\n",
        "def process_test_data():\n",
        "    testing_data = []\n",
        "    for img in tqdm(os.listdir(TEST_DIR)):\n",
        "        label = label_img(img)\n",
        "        path = TEST_DIR + '/' + img\n",
        "        img = cv2.imread(path,1)\n",
        "        img = cv2.resize(img, (IMG_SIZE,IMG_SIZE))\n",
        "        testing_data.append([np.array(img),label])       \n",
        "    shuffle(testing_data)\n",
        "    np.save('test_data_mc.npy', testing_data)\n",
        "    return testing_data\n",
        "    '''"
      ],
      "execution_count": 2,
      "outputs": [
        {
          "output_type": "execute_result",
          "data": {
            "text/plain": [
              "\"\\ndef process_test_data():\\n    testing_data = []\\n    for img in tqdm(os.listdir(TEST_DIR)):\\n        label = label_img(img)\\n        path = TEST_DIR + '/' + img\\n        img = cv2.imread(path,1)\\n        img = cv2.resize(img, (IMG_SIZE,IMG_SIZE))\\n        testing_data.append([np.array(img),label])       \\n    shuffle(testing_data)\\n    np.save('test_data_mc.npy', testing_data)\\n    return testing_data\\n    \""
            ]
          },
          "metadata": {
            "tags": []
          },
          "execution_count": 2
        }
      ]
    },
    {
      "metadata": {
        "id": "ctOVp4M2Tywl",
        "colab_type": "code",
        "colab": {
          "base_uri": "https://localhost:8080/",
          "height": 164
        },
        "outputId": "b7d8372b-247e-46cf-b23d-31f617941c6f"
      },
      "cell_type": "code",
      "source": [
        "plt.imshow(np.array(train_data[180][0]))"
      ],
      "execution_count": 3,
      "outputs": [
        {
          "output_type": "error",
          "ename": "NameError",
          "evalue": "ignored",
          "traceback": [
            "\u001b[0;31m---------------------------------------------------------------------------\u001b[0m",
            "\u001b[0;31mNameError\u001b[0m                                 Traceback (most recent call last)",
            "\u001b[0;32m<ipython-input-3-e9d0cfd17179>\u001b[0m in \u001b[0;36m<module>\u001b[0;34m()\u001b[0m\n\u001b[0;32m----> 1\u001b[0;31m \u001b[0mplt\u001b[0m\u001b[0;34m.\u001b[0m\u001b[0mimshow\u001b[0m\u001b[0;34m(\u001b[0m\u001b[0mnp\u001b[0m\u001b[0;34m.\u001b[0m\u001b[0marray\u001b[0m\u001b[0;34m(\u001b[0m\u001b[0mtrain_data\u001b[0m\u001b[0;34m[\u001b[0m\u001b[0;36m180\u001b[0m\u001b[0;34m]\u001b[0m\u001b[0;34m[\u001b[0m\u001b[0;36m0\u001b[0m\u001b[0;34m]\u001b[0m\u001b[0;34m)\u001b[0m\u001b[0;34m)\u001b[0m\u001b[0;34m\u001b[0m\u001b[0;34m\u001b[0m\u001b[0m\n\u001b[0m",
            "\u001b[0;31mNameError\u001b[0m: name 'plt' is not defined"
          ]
        }
      ]
    },
    {
      "metadata": {
        "id": "oUrzyZoUTywv",
        "colab_type": "code",
        "colab": {}
      },
      "cell_type": "code",
      "source": [
        "#A KITCHEN\n",
        "plt.imshow(np.array(train_data[100][0]))"
      ],
      "execution_count": 0,
      "outputs": []
    },
    {
      "metadata": {
        "id": "UJn-hF0VTywz",
        "colab_type": "code",
        "colab": {}
      },
      "cell_type": "code",
      "source": [
        "# A KNIFE\n",
        "plt.imshow(np.array(train_data[111][0]))"
      ],
      "execution_count": 0,
      "outputs": []
    },
    {
      "metadata": {
        "id": "QNpcwx-4Tyw6",
        "colab_type": "code",
        "colab": {}
      },
      "cell_type": "code",
      "source": [
        "# A SAUCEPAN\n",
        "plt.imshow(np.array(train_data[154][0]))"
      ],
      "execution_count": 0,
      "outputs": []
    },
    {
      "metadata": {
        "id": "CvGfLZkpTyw_",
        "colab_type": "code",
        "colab": {}
      },
      "cell_type": "code",
      "source": [
        "#In order to implement ALEXNET, we are resizing them to (227,227,3)\n",
        "for i in range(len(train_data)):\n",
        "    train_data[i][0] = cv2.resize(train_data[i][0],(IMG_SIZE_ALEXNET,IMG_SIZE_ALEXNET))\n",
        "\n",
        "for i in range(len(test_data)):\n",
        "    test_data[i][0] = cv2.resize(test_data[i][0],(IMG_SIZE_ALEXNET,IMG_SIZE_ALEXNET))\n",
        "\n",
        "train = train_data[:4800]\n",
        "cv = train_data[4800:]\n",
        "\n",
        "X = np.array([i[0] for i in train]).reshape(-1,IMG_SIZE_ALEXNET,IMG_SIZE_ALEXNET,3)\n",
        "Y = np.array([i[1] for i in train])\n",
        "\n",
        "cv_x = np.array([i[0] for i in cv]).reshape(-1,IMG_SIZE_ALEXNET,IMG_SIZE_ALEXNET,3)\n",
        "cv_y = np.array([i[1] for i in cv])\n",
        "test_x = np.array([i[0] for i in test_data]).reshape(-1,IMG_SIZE_ALEXNET,IMG_SIZE_ALEXNET,3)\n",
        "test_y = np.array([i[1] for i in test_data])\n",
        "\n",
        "print(X.shape)\n",
        "\n",
        "print(Y.shape)\n",
        "\n",
        "print(cv_x.shape)\n",
        "\n",
        "print(test_x.shape)"
      ],
      "execution_count": 0,
      "outputs": []
    },
    {
      "metadata": {
        "id": "--OqCA0STyxD",
        "colab_type": "code",
        "colab": {}
      },
      "cell_type": "code",
      "source": [
        "steps = len(train)\n",
        "print(steps)\n",
        "remaining = steps % step_size\n",
        "\n",
        "#Resetting graph\n",
        "tf.reset_default_graph()\n",
        "\n",
        "#Defining Placeholders\n",
        "x = tf.placeholder(tf.float32,shape=[None,IMG_SIZE_ALEXNET,IMG_SIZE_ALEXNET,3])\n",
        "y_true = tf.placeholder(tf.float32,shape=[None,output_classes])"
      ],
      "execution_count": 0,
      "outputs": []
    },
    {
      "metadata": {
        "id": "C4xGpNvmTyxH",
        "colab_type": "code",
        "colab": {}
      },
      "cell_type": "code",
      "source": [
        "##CONVOLUTION LAYER 1\n",
        "#Weights for layer 1\n",
        "w_1 = tf.Variable(tf.truncated_normal([11,11,3,96], stddev=0.01))\n",
        "#Bias for layer 1\n",
        "b_1 = tf.Variable(tf.constant(0.0, shape=[[11,11,3,96][3]]))\n",
        "#Applying convolution\n",
        "c_1 = tf.nn.conv2d(x, w_1,strides=[1, 4, 4, 1], padding='VALID')\n",
        "#Adding bias\n",
        "c_1 = c_1 + b_1\n",
        "#Applying RELU\n",
        "c_1 = tf.nn.relu(c_1)\n",
        "\t\t\t\t\t\t\t\t\n",
        "print(c_1)\n",
        "##POOLING LAYER1\n",
        "p_1 = tf.nn.max_pool(c_1, ksize=[1, 3, 3, 1],strides=[1, 2, 2, 1], padding='VALID')\n",
        "print(p_1)\n",
        "\n",
        "\n",
        "##CONVOLUTION LAYER 2\n",
        "#Weights for layer 2\n",
        "w_2 = tf.Variable(tf.truncated_normal([5,5,96,256], stddev=0.01))\n",
        "#Bias for layer 2\n",
        "b_2 = tf.Variable(tf.constant(1.0, shape=[[5,5,96,256][3]]))\n",
        "#Applying convolution\n",
        "c_2 = tf.nn.conv2d(p_1, w_2,strides=[1, 1, 1, 1], padding='SAME')\n",
        "#Adding bias\n",
        "c_2 = c_2 + b_2\n",
        "#Applying RELU\n",
        "c_2 = tf.nn.relu(c_2)\n",
        "\n",
        "print(c_2)\n",
        "\n",
        "##POOLING LAYER2\n",
        "p_2 = tf.nn.max_pool(c_2, ksize=[1, 3, 3, 1],strides=[1, 2, 2, 1], padding='VALID')\n",
        "print(p_2)\n",
        "\n",
        "##CONVOLUTION LAYER 3\n",
        "#Weights for layer 3\n",
        "w_3 = tf.Variable(tf.truncated_normal([3, 3, 256, 384], stddev=0.01))\n",
        "#Bias for layer 3\n",
        "b_3 = tf.Variable(tf.constant(0.0, shape=[[3, 3, 256, 384][3]]))\n",
        "#Applying convolution\n",
        "c_3 = tf.nn.conv2d(p_2, w_3,strides=[1, 1, 1, 1], padding='SAME')\n",
        "#Adding bias\n",
        "c_3 = c_3 + b_3\n",
        "#Applying RELU\n",
        "c_3 = tf.nn.relu(c_3)\n",
        "\n",
        "print(c_3)\n",
        "\n",
        "##CONVOLUTION LAYER 4\n",
        "#Weights for layer 4\n",
        "w_4 = tf.Variable(tf.truncated_normal([3, 3, 384, 384], stddev=0.01))\n",
        "#Bias for layer 4\n",
        "b_4 = tf.Variable(tf.constant(0.0, shape=[[3, 3, 384, 384][3]]))\n",
        "#Applying convolution\n",
        "c_4 = tf.nn.conv2d(c_3, w_4,strides=[1, 1, 1, 1], padding='SAME')\n",
        "#Adding bias\n",
        "c_4 = c_4 + b_4\n",
        "#Applying RELU\n",
        "c_4 = tf.nn.relu(c_4)\n",
        "\n",
        "print(c_4)\n",
        "\n",
        "##CONVOLUTION LAYER 5\n",
        "#Weights for layer 5\n",
        "w_5 = tf.Variable(tf.truncated_normal([3, 3, 384, 256], stddev=0.01))\n",
        "#Bias for layer 5\n",
        "b_5 = tf.Variable(tf.constant(0.0, shape=[[3, 3, 384, 256][3]]))\n",
        "#Applying convolution\n",
        "c_5 = tf.nn.conv2d(c_4, w_5,strides=[1, 1, 1, 1], padding='SAME')\n",
        "#Adding bias\n",
        "c_5 = c_5 + b_5\n",
        "#Applying RELU\n",
        "c_5 = tf.nn.relu(c_5)\n",
        "\n",
        "print(c_5)\n",
        "\n",
        "##POOLING LAYER3\n",
        "p_3 = tf.nn.max_pool(c_5, ksize=[1, 3, 3, 1],strides=[1, 2, 2, 1], padding='VALID')\n",
        "print(p_3)\n",
        "\n",
        "#Flattening\n",
        "flattened = tf.reshape(p_3,[-1,6*6*256])\n",
        "print(flattened)\n",
        "\n",
        "##Fully Connected Layer 1\n",
        "#Getting input nodes in FC layer 1\n",
        "input_size = int( flattened.get_shape()[1] )\n",
        "#Weights for FC Layer 1\n",
        "w1_fc = tf.Variable(tf.truncated_normal([input_size, nodes_fc1], stddev=0.01))\n",
        "#Bias for FC Layer 1\n",
        "b1_fc = tf.Variable( tf.constant(1.0, shape=[nodes_fc1] ) )\n",
        "#Summing Matrix calculations and bias\n",
        "s_fc1 = tf.matmul(flattened, w1_fc) + b1_fc\n",
        "#Applying RELU\n",
        "s_fc1 = tf.nn.relu(s_fc1)\n",
        "\n",
        "#Dropout Layer 1\n",
        "hold_prob1 = tf.placeholder(tf.float32)\n",
        "s_fc1 = tf.nn.dropout(s_fc1,keep_prob=hold_prob1)\n",
        "\n",
        "print(s_fc1)\n",
        "\n",
        "##Fully Connected Layer 2\n",
        "#Weights for FC Layer 2\n",
        "w2_fc = tf.Variable(tf.truncated_normal([nodes_fc1, nodes_fc2], stddev=0.01))\n",
        "#Bias for FC Layer 2\n",
        "b2_fc = tf.Variable( tf.constant(1.0, shape=[nodes_fc2] ) )\n",
        "#Summing Matrix calculations and bias\n",
        "s_fc2 = tf.matmul(s_fc1, w2_fc) + b2_fc\n",
        "#Applying RELU\n",
        "s_fc2 = tf.nn.relu(s_fc2)\n",
        "print(s_fc2)\n",
        "\n",
        "#Dropout Layer 2\n",
        "hold_prob2 = tf.placeholder(tf.float32)\n",
        "s_fc2 = tf.nn.dropout(s_fc2,keep_prob=hold_prob1)\n",
        "\n",
        "##Fully Connected Layer 3\n",
        "#Weights for FC Layer 3\n",
        "w3_fc = tf.Variable(tf.truncated_normal([nodes_fc2,output_classes], stddev=0.01))\n",
        "#Bias for FC Layer 3b3_fc = tf.Variable( tf.constant(1.0, shape=[output_classes] ) )\n",
        "b3_fc = tf.Variable( tf.constant(1.0, shape=[output_classes] ) )\n",
        "#Summing Matrix calculations and bias\n",
        "y_pred = tf.matmul(s_fc2, w3_fc) + b3_fc\n",
        "#Applying RELU\n",
        "print(y_pred)\n"
      ],
      "execution_count": 0,
      "outputs": []
    },
    {
      "metadata": {
        "id": "Ngp9aspTTyxM",
        "colab_type": "code",
        "colab": {}
      },
      "cell_type": "code",
      "source": [
        "cross_entropy = tf.reduce_mean(tf.nn.softmax_cross_entropy_with_logits_v2(labels=y_true,logits=y_pred))"
      ],
      "execution_count": 0,
      "outputs": []
    },
    {
      "metadata": {
        "id": "n8GJAfBeTyxR",
        "colab_type": "code",
        "colab": {}
      },
      "cell_type": "code",
      "source": [
        "#Defining objective\n",
        "train = tf.train.AdamOptimizer(learning_rate=0.00001).minimize(cross_entropy)\n",
        "\n",
        "\n",
        "#Defining Accuracy\n",
        "matches = tf.equal(tf.argmax(y_pred,1),tf.argmax(y_true,1))\n",
        "acc = tf.reduce_mean(tf.cast(matches,tf.float32))\n",
        "\n",
        "#Initializing weights\n",
        "init = tf.global_variables_initializer()\n",
        "\n",
        "#Starting Empty lists to keep results\n",
        "acc_list = []\n",
        "auc_list = []\n",
        "loss_list = []\n",
        "saver = tf.train.Saver()\n",
        "#GPU settings\n",
        "config = tf.ConfigProto(allow_soft_placement=True)\n",
        "config.gpu_options.allow_growth = True\n",
        "config.gpu_options.allocator_type = 'BFC'"
      ],
      "execution_count": 0,
      "outputs": []
    },
    {
      "metadata": {
        "id": "Szqc8ba6TyxW",
        "colab_type": "code",
        "colab": {}
      },
      "cell_type": "code",
      "source": [
        "with tf.Session(config=config) as sess:\n",
        "    sess.run(init)\n",
        "    for i in range(epochs):\n",
        "        for j in range(0,steps-remaining,step_size):\n",
        "            #Feeding step_size-amount data with 0.5 keeping probabilities on DROPOUT LAYERS\n",
        "            _,c = sess.run([train,cross_entropy],\n",
        "\t\t\tfeed_dict={x:X[j:j+step_size] , y_true:Y[j:j+step_size],hold_prob1:0.5,hold_prob2:0.5})\n",
        "        \n",
        "        \n",
        "\t\t#Writing for loop to calculate test statistics. GTX 1050 isn't able to calculate all test data.\n",
        "        cv_auc_list = []\n",
        "        cv_acc_list = []\n",
        "        cv_loss_list = []\n",
        "        for v in range(0,len(cv_x)-int(len(cv_x) % validating_size),validating_size):\n",
        "            acc_on_cv,loss_on_cv,preds = sess.run([acc,cross_entropy,tf.nn.softmax(y_pred)],\n",
        "\t\t\tfeed_dict={x:cv_x[v:v+validating_size] ,y_true:cv_y[v:v+validating_size] ,hold_prob1:1.0,hold_prob2:1.0})\n",
        "\t\t\t\n",
        "            auc_on_cv = roc_auc_score(cv_y[v:v+validating_size],preds)\n",
        "            cv_acc_list.append(acc_on_cv)\n",
        "            cv_auc_list.append(auc_on_cv)\n",
        "            cv_loss_list.append(loss_on_cv)\n",
        "        acc_cv_ = round(np.mean(cv_acc_list),5)\n",
        "        auc_cv_ = round(np.mean(cv_auc_list),5)\n",
        "        loss_cv_ = round(np.mean(cv_loss_list),5)\n",
        "        acc_list.append(acc_cv_)\n",
        "        auc_list.append(auc_cv_)\n",
        "        loss_list.append(loss_cv_)\n",
        "        print(\"Epoch:\",i,\"Accuracy:\",acc_cv_,\"Loss:\",loss_cv_ ,\"AUC:\",auc_cv_)\n",
        "    \n",
        "    test_auc_list = []\n",
        "    test_acc_list = []\n",
        "    test_loss_list = []\n",
        "    for v in range(0,len(test_x)-int(len(test_x) % validating_size),validating_size):\n",
        "        acc_on_test,loss_on_test,preds = sess.run([acc,cross_entropy,tf.nn.softmax(y_pred)],\n",
        "\t\tfeed_dict={x:test_x[v:v+validating_size] ,y_true:test_y[v:v+validating_size] ,hold_prob1:1.0,hold_prob2:1.0})\n",
        "        \n",
        "        auc_on_test = roc_auc_score(test_y[v:v+validating_size],preds)\n",
        "        test_acc_list.append(acc_on_test)\n",
        "        test_auc_list.append(auc_on_test)\n",
        "        test_loss_list.append(loss_on_test)\n",
        "    saver.save(sess, os.path.join(os.getcwd(),\"CNN_MC.ckpt\"))\n",
        "    test_acc_ = round(np.mean(test_acc_list),5)\n",
        "    test_auc_ = round(np.mean(test_auc_list),5)\n",
        "    test_loss_ = round(np.mean(test_loss_list),5)\n",
        "    print(\"Test Results are below:\")\n",
        "    print(\"Accuracy:\",test_acc_,\"Loss:\",test_loss_,\"AUC:\",test_auc_)\n"
      ],
      "execution_count": 0,
      "outputs": []
    },
    {
      "metadata": {
        "id": "NbDr5JVDTyxb",
        "colab_type": "code",
        "colab": {}
      },
      "cell_type": "code",
      "source": [
        "f,ax=plt.subplots(1,3,figsize=(12,3))\n",
        "pd.Series(acc_list).plot(kind='line',title='Accuracy on CV data',ax=ax[0])\n",
        "pd.Series(loss_list).plot(kind='line',figsize=(12,7),title='Loss on CV data',ax=ax[1])\n",
        "pd.Series(auc_list).plot(kind='line',figsize=(12,7),title='AUC on CV data',ax=ax[2])\n",
        "plt.subplots_adjust(wspace=0.8)\n",
        "ax[0].set_title('Accuracy on CV data')\n",
        "ax[1].set_title('Loss on CV data')\n",
        "ax[2].set_title('Loss on CV data')\n",
        "plt.show()\n"
      ],
      "execution_count": 0,
      "outputs": []
    },
    {
      "metadata": {
        "id": "IEE7f2UhTyx2",
        "colab_type": "code",
        "colab": {}
      },
      "cell_type": "code",
      "source": [
        "#Restoring a pretrained\n",
        "with tf.Session() as session:\n",
        "    saver.restore(session, \"CNN_MC.ckpt\")\n",
        "    print(\"Model restored.\") \n",
        "    print('Initialized')\n",
        "    k = session.run([tf.nn.softmax(y_pred)], feed_dict={x:test_x[0:64] , hold_prob1:1,hold_prob2:1})\n",
        "\n",
        "print(np.array(k).shape)\n",
        "\n",
        "#Reshaping k\n",
        "k = np.array(k).reshape(64,output_classes)\n",
        "\n",
        "print(k[0])\n",
        "\n",
        "pred_labels = []\n",
        "\n",
        "for i in range(64):\n",
        "    r = np.round(k[i],3).argmax()\n",
        "    if r ==0 : pred_labels.append(\"chair\")\n",
        "    elif r ==1: pred_labels.append(\"kitchen\")\n",
        "    elif r ==2: pred_labels.append(\"knife\")\n",
        "    elif r ==3: pred_labels.append(\"saucepan\")"
      ],
      "execution_count": 0,
      "outputs": []
    },
    {
      "metadata": {
        "id": "Ze_oq0JATyx5",
        "colab_type": "code",
        "colab": {}
      },
      "cell_type": "code",
      "source": [
        "#Multiple images parameters\n",
        "w=80\n",
        "h=80\n",
        "columns = 8\n",
        "rows = 8\n",
        "\n",
        "#First 64 images\n",
        "images = test_x[:64]\n",
        "\n",
        "print(images.shape)\n",
        "\n",
        "fig = plt.figure(figsize=(20, 20))\n",
        "for m in range(1, columns*rows +1):\n",
        "    img = images[m-1].reshape([IMG_SIZE_ALEXNET, IMG_SIZE_ALEXNET, 3])\n",
        "    fig.add_subplot(rows, columns, m)\n",
        "    plt.imshow(img)\n",
        "    plt.title(\"Pred: \" + pred_labels[m-1])\n",
        "    plt.axis('off')\n",
        "plt.show()"
      ],
      "execution_count": 0,
      "outputs": []
    }
  ]
}